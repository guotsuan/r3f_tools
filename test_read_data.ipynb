{
 "cells": [
  {
   "cell_type": "code",
   "execution_count": 23,
   "metadata": {},
   "outputs": [
    {
     "name": "stdout",
     "output_type": "stream",
     "text": [
      "Number of Frames: 160\n",
      "\n",
      "File size is: 2637824 bytes.\n",
      "File length is: 0.011683 seconds.\n",
      "\n",
      "FILE INFO\n",
      "FileID:  Tektronix RSA300 Data File\u0000\n",
      "Endian Check: 0x12345678\n",
      "File Format Version: 1.2.0.0\n",
      "API Version: 4.1.22.0\n",
      "FX3 Version: 1.7.1.7\n",
      "FPGA Version: 2.1.2.1\n",
      "Device Serial Number:  B037003\u0000\u0000\u0000\u0000\u0000\u0000\u0000\u0000\u0000\u0000\u0000\u0000\u0000\u0000\u0000\u0000\u0000\u0000\u0000\u0000\u0000\u0000\u0000\u0000\u0000\u0000\u0000\u0000\u0000\u0000\u0000\u0000\u0000\u0000\u0000\u0000\u0000\u0000\u0000\u0000\u0000\u0000\u0000\u0000\u0000\u0000\u0000\u0000\u0000\u0000\u0000\u0000\u0000\u0000\u0000\u0000\u0000\n",
      "INSTRUMENT STATE\n",
      "Reference Level: 0.00 dBm\n",
      "Center Frequency: 300000000.0 Hz\n",
      "temp: 27.8125 C\n",
      "Alignment status:  0\n",
      "Frequency Reference:  0\n",
      "Trigger mode:  0\n",
      "Trigger Source:  0\n",
      "Trigger Transition:  1\n",
      "Trigger Level: 0.0 dBm\n",
      "\n",
      "DATA FORMAT\n",
      "Data Type: 2 bytes per sample\n",
      "Offset to first frame (bytes):  16384\n",
      "Frame Size (bytes):  16384\n",
      "Offset to sample data (bytes):  0\n",
      "Samples in Frame:  8178\n",
      "Offset to non-sample data:  16356\n",
      "Size of non-sample data:  28\n",
      "IF Center Frequency: 28000000.0 Hz\n",
      "Sample Rate: 112000000.0 S/sec\n",
      "Bandwidth: 40000000.0 Hz\n",
      "Corrected data status:  0\n",
      "Time Type (0=local, 1=remote):  0\n",
      "Reference Time: 6/25/2021 at 14:11:7.0\n",
      "Clock sample count:  239408914\n",
      "Sample ticks per second:  112000000\n",
      "UTC Time: 6/25/2021 at 6:11:7.0\n",
      "\n",
      "CHANNEL AND SIGNAL PATH CORRECTION\n",
      "ADC Scale Factor:  3.396437765848212e-05\n",
      "Signal Path Delay: 800.7107142857143 nsec\n",
      "Correction Type (0=LF, 1=IF):  1\n",
      "Beginning data conversion.\n",
      "\n",
      "start ddc\n",
      "1\n",
      "ddc...\n",
      "finish ddc\n",
      "Elapsed time is: 0.12825187295675278\n"
     ]
    },
    {
     "data": {
      "application/vnd.jupyter.widget-view+json": {
       "model_id": "09e9af134dff4646bbcc2a58135bbb07",
       "version_major": 2,
       "version_minor": 0
      },
      "text/plain": [
       "Canvas(toolbar=Toolbar(toolitems=[('Home', 'Reset original view', 'home', 'home'), ('Back', 'Back to previous …"
      ]
     },
     "metadata": {},
     "output_type": "display_data"
    },
    {
     "name": "stdout",
     "output_type": "stream",
     "text": [
      "unit is dBm\n",
      "unit is dBm\n",
      "unit is dBm\n",
      "unit is dBm\n",
      "unit is dBm\n",
      "unit is dBm\n",
      "unit is dBm\n",
      "unit is dBm\n",
      "unit is dBm\n",
      "unit is dBm\n",
      "unit is dBm\n",
      "unit is dBm\n",
      "unit is dBm\n",
      "unit is dBm\n",
      "unit is dBm\n",
      "unit is dBm\n",
      "unit is dBm\n",
      "unit is dBm\n",
      "unit is dBm\n",
      "unit is dBm\n"
     ]
    }
   ],
   "source": [
    "from r3x_reader import R3F\n",
    "import matplotlib.pyplot as plt\n",
    "import numpy as np\n",
    "%matplotlib widget\n",
    "\n",
    "r3f = R3F()\n",
    "filename ='data3.r3f'\n",
    "r3f.read_r3f_file(filename)\n",
    "\n",
    "\n",
    "def get_power_spectrum(indata, rbw=30, fs=112e6, avg_n = 1, unit='dBm'):\n",
    "    from numpy.fft import fft\n",
    "    from scipy.fftpack import fftfreq, fftshift\n",
    "    k = 2.23\n",
    "    beta = 16.7\n",
    "    \n",
    "    rbw = rbw # khz\n",
    "    sample_rate = fs # khz\n",
    "\n",
    "    data_n = np.int64(k * sample_rate / rbw /1e3) + 1\n",
    "\n",
    "\n",
    "    avg_n = avg_n\n",
    "    unit = unit\n",
    "\n",
    "    kasier_fil = np.kaiser(data_n, beta)\n",
    "    factor_kasier = np.sum(kasier_fil)/data_n\n",
    "\n",
    "\n",
    "    timestep = 1.0/sample_rate\n",
    "\n",
    "    result = np.zeros((data_n, avg_n))\n",
    "\n",
    "    for k in np.arange(avg_n): \n",
    "        fft_data = fft(indata[k*data_n:(k+1)*data_n]*kasier_fil, norm='ortho')\n",
    "        freq = fftfreq(data_n, timestep)\n",
    "        freq = fftshift(freq)\n",
    "        fft_data = fftshift(fft_data)\n",
    "        \n",
    "        if unit == 'dBm':\n",
    "            print(\"unit is dBm\")\n",
    "            dbm = 10*np.log10(np.abs(fft_data)**2/freq.size/(50*1e-3)/factor_kasier) \n",
    "            result[:, k] = dbm\n",
    "        else:\n",
    "            result[:, k] = np.abs(fft_data)**2/freq.size/factor_kasier\n",
    "            \n",
    "    \n",
    "    return (freq, np.mean(result, axis=1))\n",
    "\n",
    "plt.figure()\n",
    "freq, y = get_power_spectrum(r3f.IQ, avg_n=20)\n",
    "plt.plot(freq/1e6 + 300, y)\n",
    "# plt.yscale(\"log\")\n",
    "plt.ylabel(\"dBm\")\n",
    "plt.xlabel(\"Mhz\")\n",
    "plt.xlim([280, 320])\n",
    "plt.ylim([-100, 0])\n",
    "plt.show()\n",
    "\n"
   ]
  },
  {
   "cell_type": "code",
   "execution_count": 17,
   "metadata": {},
   "outputs": [],
   "source": [
    "xx =freq/1e6 + 300 "
   ]
  },
  {
   "cell_type": "code",
   "execution_count": 18,
   "metadata": {},
   "outputs": [
    {
     "data": {
      "text/plain": [
       "array([299.944     , 299.94401345, 299.9440269 , ..., 300.05595964,\n",
       "       300.0559731 , 300.05598655])"
      ]
     },
     "execution_count": 18,
     "metadata": {},
     "output_type": "execute_result"
    }
   ],
   "source": [
    "xx"
   ]
  },
  {
   "cell_type": "code",
   "execution_count": 19,
   "metadata": {},
   "outputs": [
    {
     "data": {
      "text/plain": [
       "array([-56000.        , -55986.54816238, -55973.09632477, ...,\n",
       "        55959.64448715,  55973.09632477,  55986.54816238])"
      ]
     },
     "execution_count": 19,
     "metadata": {},
     "output_type": "execute_result"
    }
   ],
   "source": [
    "freq"
   ]
  },
  {
   "cell_type": "code",
   "execution_count": null,
   "metadata": {},
   "outputs": [],
   "source": []
  }
 ],
 "metadata": {
  "kernelspec": {
   "display_name": "Python 3",
   "language": "python",
   "name": "python3"
  },
  "language_info": {
   "codemirror_mode": {
    "name": "ipython",
    "version": 3
   },
   "file_extension": ".py",
   "mimetype": "text/x-python",
   "name": "python",
   "nbconvert_exporter": "python",
   "pygments_lexer": "ipython3",
   "version": "3.8.6"
  }
 },
 "nbformat": 4,
 "nbformat_minor": 4
}
